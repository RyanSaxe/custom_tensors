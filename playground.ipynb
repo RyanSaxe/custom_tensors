{
 "cells": [
  {
   "cell_type": "code",
   "execution_count": 1,
   "id": "baf51410",
   "metadata": {},
   "outputs": [
    {
     "name": "stdout",
     "output_type": "stream",
     "text": [
      "Automatic pdb calling has been turned ON\n"
     ]
    }
   ],
   "source": [
    "%pdb"
   ]
  },
  {
   "cell_type": "code",
   "execution_count": 2,
   "id": "25769ac9",
   "metadata": {},
   "outputs": [],
   "source": [
    "from tensorguide.framework.tensor import Tensor\n",
    "from tensorguide.utils.initializer import OnesInitializer"
   ]
  },
  {
   "cell_type": "code",
   "execution_count": 3,
   "id": "b1b3823a",
   "metadata": {},
   "outputs": [
    {
     "data": {
      "text/plain": [
       "Tensor([[[210., 210., 210., 210.],\n",
       "        [210., 210., 210., 210.],\n",
       "        [210., 210., 210., 210.]],\n",
       "\n",
       "       [[210., 210., 210., 210.],\n",
       "        [210., 210., 210., 210.],\n",
       "        [210., 210., 210., 210.]]], dtype=float32)"
      ]
     },
     "execution_count": 3,
     "metadata": {},
     "output_type": "execute_result"
    }
   ],
   "source": [
    "t1 = Tensor(\n",
    "    shape = (2,3,4),\n",
    "    value = OnesInitializer(), dtype=\"f\",\n",
    ")\n",
    "t2 = Tensor(\n",
    "    shape = [3,1],\n",
    "    value = OnesInitializer(), dtype=\"f\",\n",
    ")\n",
    "\n",
    "output = t1 + 20\n",
    "final = output * 10\n",
    "final"
   ]
  },
  {
   "cell_type": "code",
   "execution_count": 6,
   "id": "7bebbed8",
   "metadata": {},
   "outputs": [
    {
     "data": {
      "text/plain": [
       "<function tensorguide.ops.math_ops.add(*inputs, njobs=1, stop_gradient=False)>"
      ]
     },
     "execution_count": 6,
     "metadata": {},
     "output_type": "execute_result"
    }
   ],
   "source": [
    "import tensorguide as tg\n",
    "tg.add"
   ]
  },
  {
   "cell_type": "code",
   "execution_count": null,
   "id": "1784e41b",
   "metadata": {},
   "outputs": [],
   "source": []
  }
 ],
 "metadata": {
  "kernelspec": {
   "display_name": "310",
   "language": "python",
   "name": "310"
  },
  "language_info": {
   "codemirror_mode": {
    "name": "ipython",
    "version": 3
   },
   "file_extension": ".py",
   "mimetype": "text/x-python",
   "name": "python",
   "nbconvert_exporter": "python",
   "pygments_lexer": "ipython3",
   "version": "3.10.5"
  }
 },
 "nbformat": 4,
 "nbformat_minor": 5
}
