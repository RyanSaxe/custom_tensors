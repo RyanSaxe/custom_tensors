{
 "cells": [
  {
   "cell_type": "code",
   "execution_count": 1,
   "id": "ba6fce65",
   "metadata": {},
   "outputs": [],
   "source": [
    "import sys\n",
    "sys.path.append(\"custom_tensors/\")"
   ]
  },
  {
   "cell_type": "code",
   "execution_count": 2,
   "id": "baf51410",
   "metadata": {},
   "outputs": [],
   "source": [
    "%load_ext autoreload\n",
    "%autoreload 2"
   ]
  },
  {
   "cell_type": "code",
   "execution_count": 3,
   "id": "25769ac9",
   "metadata": {},
   "outputs": [],
   "source": [
    "from custom_tensors.tensor import Tensor\n",
    "from custom_tensors.initializer import OnesInitializer"
   ]
  },
  {
   "cell_type": "code",
   "execution_count": 4,
   "id": "b1b3823a",
   "metadata": {},
   "outputs": [],
   "source": [
    "t1 = Tensor(\n",
    "    shape = (2,3,4),\n",
    "    initializer = OnesInitializer, dtype=float\n",
    ")\n",
    "t2 = Tensor(\n",
    "    name=\"test\",\n",
    "    shape = [1,3,1]\n",
    ")\n",
    "test = t1 + t2"
   ]
  },
  {
   "cell_type": "code",
   "execution_count": 5,
   "id": "4fa85165",
   "metadata": {},
   "outputs": [
    {
     "data": {
      "text/plain": [
       "Tensor([[[1.64752117, 1.64752117, 1.64752117, 1.64752117],\n",
       "        [1.12495562, 1.12495562, 1.12495562, 1.12495562],\n",
       "        [1.63965919, 1.63965919, 1.63965919, 1.63965919]],\n",
       "\n",
       "       [[1.64752117, 1.64752117, 1.64752117, 1.64752117],\n",
       "        [1.12495562, 1.12495562, 1.12495562, 1.12495562],\n",
       "        [1.63965919, 1.63965919, 1.63965919, 1.63965919]]])"
      ]
     },
     "execution_count": 5,
     "metadata": {},
     "output_type": "execute_result"
    }
   ],
   "source": [
    "test"
   ]
  }
 ],
 "metadata": {
  "kernelspec": {
   "display_name": "310",
   "language": "python",
   "name": "310"
  },
  "language_info": {
   "codemirror_mode": {
    "name": "ipython",
    "version": 3
   },
   "file_extension": ".py",
   "mimetype": "text/x-python",
   "name": "python",
   "nbconvert_exporter": "python",
   "pygments_lexer": "ipython3",
   "version": "3.10.5"
  }
 },
 "nbformat": 4,
 "nbformat_minor": 5
}
