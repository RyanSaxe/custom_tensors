{
 "cells": [
  {
   "cell_type": "code",
   "execution_count": 1,
   "id": "baf51410",
   "metadata": {},
   "outputs": [
    {
     "name": "stdout",
     "output_type": "stream",
     "text": [
      "Automatic pdb calling has been turned ON\n"
     ]
    }
   ],
   "source": [
    "%load_ext autoreload\n",
    "%autoreload 2\n",
    "%pdb"
   ]
  },
  {
   "cell_type": "code",
   "execution_count": 2,
   "id": "25769ac9",
   "metadata": {},
   "outputs": [],
   "source": [
    "from tensorguide.framework.tensor import Tensor\n",
    "from tensorguide.utils.initializer import OnesInitializer"
   ]
  },
  {
   "cell_type": "code",
   "execution_count": 4,
   "id": "b1b3823a",
   "metadata": {},
   "outputs": [
    {
     "data": {
      "text/plain": [
       "Tensor([[[2., 2., 2., 2.],\n",
       "        [2., 2., 2., 2.],\n",
       "        [2., 2., 2., 2.]],\n",
       "\n",
       "       [[2., 2., 2., 2.],\n",
       "        [2., 2., 2., 2.],\n",
       "        [2., 2., 2., 2.]]], dtype=float32)"
      ]
     },
     "execution_count": 4,
     "metadata": {},
     "output_type": "execute_result"
    }
   ],
   "source": [
    "t1 = Tensor(\n",
    "    shape = (2,3,4),\n",
    "    value = OnesInitializer(), dtype=\"f\",\n",
    "    name=\"t1\"\n",
    ")\n",
    "t2 = Tensor(\n",
    "    shape = [3,1],\n",
    "    value = OnesInitializer(), dtype=\"f\",\n",
    "    name=\"t2\"\n",
    ")\n",
    "\n",
    "output = t1 + t2\n",
    "output"
   ]
  }
 ],
 "metadata": {
  "kernelspec": {
   "display_name": "310",
   "language": "python",
   "name": "310"
  },
  "language_info": {
   "codemirror_mode": {
    "name": "ipython",
    "version": 3
   },
   "file_extension": ".py",
   "mimetype": "text/x-python",
   "name": "python",
   "nbconvert_exporter": "python",
   "pygments_lexer": "ipython3",
   "version": "3.10.5"
  }
 },
 "nbformat": 4,
 "nbformat_minor": 5
}
